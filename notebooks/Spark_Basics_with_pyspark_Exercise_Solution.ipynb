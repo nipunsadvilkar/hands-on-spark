{
 "cells": [
  {
   "cell_type": "markdown",
   "metadata": {},
   "source": [
    "### Zipf's Law\n",
    "\n",
    "Named after the American linguist George Kingsley Zipf (1902-1950), Zipf's Law describes an empirical law that describes the phenomenon in the physical and social sciences where many types of data can be approximated by Zipf distribution - a family of discrete power law probability distributions.\n",
    "\n",
    "In linguistics, Zipf's law states that given some text of natural language, the frequency of any word is inversely proportional to its rank in the frequency table.  The most frequent word will occur approximately twice as often as the second most frequent word, three times as often as the third most frequent word, etc. \n",
    "\n",
    "For example,\n",
    "In one sample of words in the English language, the most frequently occurring word, **\"the\"**, accounts for nearly 7% of all the words (69,971 out of slightly over 1 million). True to Zipf's Law, the second-place word **\"of\"** accounts for slightly over 3.5% of words (36,411 occurrences), followed by **\"and\"** (28,852). \n",
    "\n",
    "#### Formula:\n",
    "\n",
    "Zipf's law then predicts that frequency of element of rank $k$ can be approximated by,\n",
    "\n",
    "$$f(k; s, N) = \\frac{1/k^s}{\\sum_{n=1}^N (1/n^s)}$$\n",
    "\n",
    "where $N$ is the number of elements, and $s$ is the value of the exponent characterizing the distribution.  Normally, $s$ is defined to be $1$.\n",
    "\n",
    "To see illustration of Wordcount example visit: http://www.wordcount.org/main.php"
   ]
  },
  {
   "cell_type": "code",
   "execution_count": 1,
   "metadata": {},
   "outputs": [],
   "source": [
    "import numpy as np\n",
    "import matplotlib.pyplot as plt"
   ]
  },
  {
   "cell_type": "code",
   "execution_count": 2,
   "metadata": {},
   "outputs": [],
   "source": [
    "f = lambda rank,elements,s: 1/(np.sum(1./(np.arange(1,elements+1)**s)) * rank**s)"
   ]
  },
  {
   "cell_type": "code",
   "execution_count": 3,
   "metadata": {},
   "outputs": [
    {
     "data": {
      "image/png": "[encoded data removed]",
      "text/plain": [
       "<matplotlib.figure.Figure at 0x1063f4cf8>"
      ]
     },
     "metadata": {},
     "output_type": "display_data"
    }
   ],
   "source": [
    "ranks = np.arange(1,51)\n",
    "N = 5000\n",
    "s = 1.0\n",
    "\n",
    "plt.figure(figsize=(12,6))\n",
    "plt.plot(ranks,f(ranks,N,s), 'o-')\n",
    "plt.title(\"Zipfian Distribution PMF\")\n",
    "plt.xlabel(\"k: rank\")\n",
    "plt.ylabel(\"p: probability\")\n",
    "plt.show()"
   ]
  },
  {
   "cell_type": "markdown",
   "metadata": {},
   "source": [
    "### Word Count from Project Gutenberg Free ebook Texts"
   ]
  },
  {
   "cell_type": "markdown",
   "metadata": {
    "collapsed": true
   },
   "source": [
    "This exercise will attempt to replicate the results from wordcount.org by processing a large volume of sample texts.  We'll use Spark to read the text data, process the texts, and examine the total number of unique words.  \n",
    "\n",
    "We will sample 16 texts from [Project Gutenberg](https://www.gutenberg.org/ \"Title\").\n",
    "Sample text files are in following location in repo:\n",
    "\n",
    "`../data/books/`"
   ]
  },
  {
   "cell_type": "code",
   "execution_count": 4,
   "metadata": {},
   "outputs": [
    {
     "data": {
      "text/plain": [
       "['adventures_of_huckleberry_finn.txt',\n",
       " 'adventures_of_sherlock_holmes.txt',\n",
       " 'adventures_of_tom_sawyer.txt',\n",
       " 'alices_adventures_in_wonderland.txt',\n",
       " 'autobiography_of_ben_franklin.txt',\n",
       " 'dracula.txt',\n",
       " 'emma.txt',\n",
       " 'frankenstein.txt',\n",
       " 'great_expectations.txt',\n",
       " 'iliad.txt',\n",
       " 'leviathan.txt',\n",
       " 'moby_dick.txt',\n",
       " 'peter_pan.txt',\n",
       " 'pride_and_prejudice.txt',\n",
       " 'scarlet_letter.txt',\n",
       " 'tale_of_two_cities.txt']"
      ]
     },
     "execution_count": 4,
     "metadata": {},
     "output_type": "execute_result"
    }
   ],
   "source": [
    "import os\n",
    "os.listdir('../data/books/')"
   ]
  },
  {
   "cell_type": "markdown",
   "metadata": {},
   "source": [
    "#### Load Text Files"
   ]
  },
  {
   "cell_type": "markdown",
   "metadata": {},
   "source": [
    "Next, we'll load up the text files and create a text file RDD.  Spark provides `textFile` method to read a text file and return it as a RDD."
   ]
  },
  {
   "cell_type": "code",
   "execution_count": 5,
   "metadata": {},
   "outputs": [],
   "source": [
    "books_path = os.path.join('..', 'data', 'books')\n",
    "textsRDD = sc.textFile(books_path + '/' + os.listdir(books_path)[0])\n",
    "for txt in os.listdir('data')[1:]:\n",
    "    file_dir = 'data/' + txt\n",
    "    textRDD = sc.textFile(file_dir)\n",
    "    textsRDD = textsRDD.union(textRDD)"
   ]
  },
  {
   "cell_type": "code",
   "execution_count": 6,
   "metadata": {},
   "outputs": [
    {
     "data": {
      "text/plain": [
       "['',\n",
       " '',\n",
       " 'The Project Gutenberg EBook of Adventures of Huckleberry Finn, Complete',\n",
       " 'by Mark Twain (Samuel Clemens)',\n",
       " '',\n",
       " 'This eBook is for the use of anyone anywhere at no cost and with almost',\n",
       " 'no restrictions whatsoever. You may copy it, give it away or re-use',\n",
       " 'it under the terms of the Project Gutenberg License included with this',\n",
       " 'eBook or online at www.gutenberg.net',\n",
       " '',\n",
       " 'Title: Adventures of Huckleberry Finn, Complete',\n",
       " '',\n",
       " 'Author: Mark Twain (Samuel Clemens)',\n",
       " '',\n",
       " 'Release Date: August 20, 2006 [EBook #76]',\n",
       " '',\n",
       " 'Last Updated: April 18, 2015]',\n",
       " '',\n",
       " 'Language: English',\n",
       " '']"
      ]
     },
     "execution_count": 6,
     "metadata": {},
     "output_type": "execute_result"
    }
   ],
   "source": [
    "textsRDD.take(20)"
   ]
  },
  {
   "cell_type": "code",
   "execution_count": 7,
   "metadata": {},
   "outputs": [],
   "source": [
    "# function to clean up the words\n",
    "import re\n",
    "\n",
    "def parsewords(sentence):\n",
    "    # Convert all non-alphanumeric characters into empty string\n",
    "    sentence_clean = re.sub(r'([^A-Za-z0-9\\s+])', '', sentence)  \n",
    "    words = sentence_clean.split(' ')\n",
    "    # Convert to lowercase and eliminate empty string words\n",
    "    return [word.lower() for word in words if word != ''] "
   ]
  },
  {
   "cell_type": "markdown",
   "metadata": {},
   "source": [
    "We have a a RDD that is a collection of strings.  We'll start by mapping the function `parsewords` to each of the line of strings in `textsRDD`."
   ]
  },
  {
   "cell_type": "code",
   "execution_count": 8,
   "metadata": {},
   "outputs": [
    {
     "data": {
      "text/plain": [
       "[[],\n",
       " [],\n",
       " ['the',\n",
       "  'project',\n",
       "  'gutenberg',\n",
       "  'ebook',\n",
       "  'of',\n",
       "  'adventures',\n",
       "  'of',\n",
       "  'huckleberry',\n",
       "  'finn',\n",
       "  'complete'],\n",
       " ['by', 'mark', 'twain', 'samuel', 'clemens'],\n",
       " []]"
      ]
     },
     "execution_count": 8,
     "metadata": {},
     "output_type": "execute_result"
    }
   ],
   "source": [
    "textsRDD.map(parsewords).take(5)  # Not quite what we want!"
   ]
  },
  {
   "cell_type": "markdown",
   "metadata": {},
   "source": [
    "Unfortunately, the result of mapping `parsewords` to `textsRDD` did not yield the result that we want. \n",
    "\n",
    "RDD has `flatMap` method that will map a function that has been passed in as a parameter to elements of the RDD and flatten the result.  We'll use `flatMap` method and apply `parsewords` function to create a new RDD of words. "
   ]
  },
  {
   "cell_type": "code",
   "execution_count": 9,
   "metadata": {},
   "outputs": [
    {
     "data": {
      "text/plain": [
       "['the',\n",
       " 'project',\n",
       " 'gutenberg',\n",
       " 'ebook',\n",
       " 'of',\n",
       " 'adventures',\n",
       " 'of',\n",
       " 'huckleberry',\n",
       " 'finn',\n",
       " 'complete',\n",
       " 'by',\n",
       " 'mark',\n",
       " 'twain',\n",
       " 'samuel',\n",
       " 'clemens',\n",
       " 'this',\n",
       " 'ebook',\n",
       " 'is',\n",
       " 'for',\n",
       " 'the']"
      ]
     },
     "execution_count": 9,
     "metadata": {},
     "output_type": "execute_result"
    }
   ],
   "source": [
    "wordRDD = textsRDD.flatMap(parsewords)\n",
    "wordRDD.take(20)"
   ]
  },
  {
   "cell_type": "markdown",
   "metadata": {},
   "source": [
    "Now that we have an RDD of words, let's examine how many words are in our sample texts."
   ]
  },
  {
   "cell_type": "code",
   "execution_count": 10,
   "metadata": {},
   "outputs": [
    {
     "name": "stdout",
     "output_type": "stream",
     "text": [
      "Total Word Count: 372183\n"
     ]
    }
   ],
   "source": [
    "# Total Number of Words in our Sample\n",
    "total_count = wordRDD.count()\n",
    "print(\"Total Word Count:\", total_count)"
   ]
  },
  {
   "cell_type": "markdown",
   "metadata": {},
   "source": [
    "We will use `map` method of the RDD to convert each occurance of word into a (key,value) pair and create a new RDD called `wordPairRDD`.  If you saw the word count example in MapReduce, you should be familiar with this pattern. "
   ]
  },
  {
   "cell_type": "code",
   "execution_count": 11,
   "metadata": {
    "scrolled": true
   },
   "outputs": [
    {
     "data": {
      "text/plain": [
       "[('the', 1),\n",
       " ('project', 1),\n",
       " ('gutenberg', 1),\n",
       " ('ebook', 1),\n",
       " ('of', 1),\n",
       " ('adventures', 1),\n",
       " ('of', 1),\n",
       " ('huckleberry', 1),\n",
       " ('finn', 1),\n",
       " ('complete', 1),\n",
       " ('by', 1),\n",
       " ('mark', 1),\n",
       " ('twain', 1),\n",
       " ('samuel', 1),\n",
       " ('clemens', 1),\n",
       " ('this', 1),\n",
       " ('ebook', 1),\n",
       " ('is', 1),\n",
       " ('for', 1),\n",
       " ('the', 1)]"
      ]
     },
     "execution_count": 11,
     "metadata": {},
     "output_type": "execute_result"
    }
   ],
   "source": [
    "# Convert individual word into a pair of (word,1) tuple \n",
    "wordPairRDD = wordRDD.map(lambda word: (word,1))\n",
    "wordPairRDD.take(20)"
   ]
  },
  {
   "cell_type": "markdown",
   "metadata": {},
   "source": [
    "We have converted wordRDD into a a new RDD that holds each instance of word into a (key,value) pair.  Let's use reduceByKey method to sum up the counts and create a new RDD, `wordCountRDD`. "
   ]
  },
  {
   "cell_type": "code",
   "execution_count": 12,
   "metadata": {},
   "outputs": [
    {
     "data": {
      "text/plain": [
       "[('linseywoolsey', 1),\n",
       " ('transcription', 1),\n",
       " ('amore', 3),\n",
       " ('unsoldmike', 3),\n",
       " ('peril', 3),\n",
       " ('secret', 53),\n",
       " ('201512156063999899999999660845957596399989999999961461540057533981000000004',\n",
       "  1),\n",
       " ('arestaurant', 3),\n",
       " ('lord', 6),\n",
       " ('wisest', 1),\n",
       " ('courageous', 3),\n",
       " ('wwwdbuknet', 6),\n",
       " ('looy', 2),\n",
       " ('ctagg', 3),\n",
       " ('whoops', 4),\n",
       " ('slopped', 2),\n",
       " ('201403177430000374849998740100027468578040068822176', 1),\n",
       " ('moneys', 1),\n",
       " ('hammisplaced', 1),\n",
       " ('issues', 15)]"
      ]
     },
     "execution_count": 12,
     "metadata": {},
     "output_type": "execute_result"
    }
   ],
   "source": [
    "wordCountRDD = wordPairRDD.reduceByKey(lambda x,y: x+y)\n",
    "wordCountRDD.take(20)"
   ]
  },
  {
   "cell_type": "code",
   "execution_count": 13,
   "metadata": {},
   "outputs": [
    {
     "name": "stdout",
     "output_type": "stream",
     "text": [
      "Total Unique Words: 18036\n"
     ]
    }
   ],
   "source": [
    "# Number of Unique Words\n",
    "unique_count = wordCountRDD.count()\n",
    "print(\"Total Unique Words:\", unique_count)"
   ]
  },
  {
   "cell_type": "markdown",
   "metadata": {},
   "source": [
    "Since `wordCountRDD` contains unique words and their counts, we sort them by `takeOrdered` method of RDD specifying the the ordering function to order by the values in (key,value) pairs.  We will only select top 50 words."
   ]
  },
  {
   "cell_type": "code",
   "execution_count": 14,
   "metadata": {},
   "outputs": [
    {
     "data": {
      "text/plain": [
       "[('to', 9752),\n",
       " ('and', 9039),\n",
       " ('i', 8951),\n",
       " ('the', 8864),\n",
       " ('you', 7556),\n",
       " ('a', 7275),\n",
       " ('in', 4137),\n",
       " ('it', 4021),\n",
       " ('of', 3626),\n",
       " ('u', 3330),\n",
       " ('me', 3097),\n",
       " ('is', 3002),\n",
       " ('for', 2984),\n",
       " ('was', 2745),\n",
       " ('my', 2638),\n",
       " ('that', 2560),\n",
       " ('on', 2491),\n",
       " ('your', 2208),\n",
       " ('but', 2114),\n",
       " ('so', 2066),\n",
       " ('he', 2012),\n",
       " ('have', 1890),\n",
       " ('up', 1745),\n",
       " ('call', 1745),\n",
       " ('we', 1736),\n",
       " ('with', 1730),\n",
       " ('all', 1641),\n",
       " ('now', 1640),\n",
       " ('or', 1633),\n",
       " ('at', 1628),\n",
       " ('out', 1610),\n",
       " ('do', 1545),\n",
       " ('be', 1537),\n",
       " ('are', 1513),\n",
       " ('if', 1482),\n",
       " ('get', 1477),\n",
       " ('no', 1452),\n",
       " ('not', 1452),\n",
       " ('2', 1445),\n",
       " ('im', 1366),\n",
       " ('can', 1328),\n",
       " ('got', 1326),\n",
       " ('just', 1312),\n",
       " ('this', 1256),\n",
       " ('when', 1223),\n",
       " ('will', 1198),\n",
       " ('dont', 1173),\n",
       " ('ur', 1155),\n",
       " ('then', 1155),\n",
       " ('go', 1107)]"
      ]
     },
     "execution_count": 14,
     "metadata": {},
     "output_type": "execute_result"
    }
   ],
   "source": [
    "# Select Top 50 words in descending order of frequency\n",
    "top50Words = wordCountRDD.takeOrdered(50, key=lambda x: -x[1]) # Use '-' to sort in descending order\n",
    "top50Words"
   ]
  },
  {
   "cell_type": "markdown",
   "metadata": {},
   "source": [
    "### Chaining\n",
    "\n",
    "<img src=\"../img/word_count_RDD_transformation.jpeg\" width=\"600px\">\n",
    "\n",
    "Although we have performed each transformation in separate steps, Spark enables us to perform these four steps in one line of code by chaining them together.\n",
    "\n",
    "Although Python is strict about indentation, we use a convenient trick of wrapping a chain of RDD methods inside a parenthesis.  This trick enables us to chain multiple RDD methods in several lines of code, which enhances readability of your code. "
   ]
  },
  {
   "cell_type": "code",
   "execution_count": 15,
   "metadata": {},
   "outputs": [],
   "source": [
    "top50Words = (textsRDD.flatMap(parsewords)\n",
    "                      .map(lambda word: (word,1))\n",
    "                      .reduceByKey(lambda x,y: x+y)\n",
    "                      .takeOrdered(50, key=lambda x: -x[1]))"
   ]
  },
  {
   "cell_type": "code",
   "execution_count": 16,
   "metadata": {},
   "outputs": [
    {
     "data": {
      "image/png": "[encoded data removed]",
      "text/plain": [
       "<matplotlib.figure.Figure at 0x1069b24e0>"
      ]
     },
     "metadata": {},
     "output_type": "display_data"
    }
   ],
   "source": [
    "words = list()\n",
    "counts = list()\n",
    "for pair in top50Words:\n",
    "    words.append(pair[0])\n",
    "    counts.append(pair[1])\n",
    "\n",
    "plt.figure(figsize=(14,6))\n",
    "plt.bar(range(1,51), np.array(counts) / float(total_count), label=\"Word Frequency\", align='center')\n",
    "plt.plot(ranks, f(ranks,N,s), c='r', label=\"$f(k,s,N)$\")\n",
    "plt.xticks(range(1,51), words[:50], rotation=60, fontsize=14)\n",
    "plt.title(\"Frequency of Top 50 Words\",fontsize=18)\n",
    "plt.legend(fontsize=14)\n",
    "plt.xlim(0.5,50.5)\n",
    "plt.show()"
   ]
  },
  {
   "cell_type": "markdown",
   "metadata": {},
   "source": [
    "Although not exact, the word frequency from our sample of texts follows the Zipf distribution closely.  We also see that in our sample texts, \"and\" is the second most frequently occuring word.  This is in contrast to the word frequency ordering of BNC in which \"of\" is ranked second and \"and\" is ranked third.    "
   ]
  }
 ],
 "metadata": {
  "kernelspec": {
   "display_name": "Python 3",
   "language": "python",
   "name": "python3"
  },
  "language_info": {
   "codemirror_mode": {
    "name": "ipython",
    "version": 3
   },
   "file_extension": ".py",
   "mimetype": "text/x-python",
   "name": "python",
   "nbconvert_exporter": "python",
   "pygments_lexer": "ipython3",
   "version": "3.4.5"
  }
 },
 "nbformat": 4,
 "nbformat_minor": 2
}
