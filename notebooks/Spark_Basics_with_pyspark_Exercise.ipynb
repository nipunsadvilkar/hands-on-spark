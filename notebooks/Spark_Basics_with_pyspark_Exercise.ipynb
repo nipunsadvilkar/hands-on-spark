{
 "cells": [
  {
   "cell_type": "markdown",
   "metadata": {},
   "source": [
    "### Zipf's Law\n",
    "\n",
    "Named after the American linguist George Kingsley Zipf (1902-1950), Zipf's Law describes an empirical law that describes the phenomenon in the physical and social sciences where many types of data can be approximated by Zipf distribution - a family of discrete power law probability distributions.\n",
    "\n",
    "In linguistics, Zipf's law states that given some text of natural language, the frequency of any word is inversely proportional to its rank in the frequency table.  The most frequent word will occur approximately twice as often as the second most frequent word, three times as often as the third most frequent word, etc. \n",
    "\n",
    "For example,\n",
    "In one sample of words in the English language, the most frequently occurring word, **\"the\"**, accounts for nearly 7% of all the words (69,971 out of slightly over 1 million). True to Zipf's Law, the second-place word **\"of\"** accounts for slightly over 3.5% of words (36,411 occurrences), followed by **\"and\"** (28,852). \n",
    "\n",
    "#### Formula:\n",
    "\n",
    "Zipf's law then predicts that frequency of element of rank $k$ can be approximated by,\n",
    "\n",
    "$$f(k; s, N) = \\frac{1/k^s}{\\sum_{n=1}^N (1/n^s)}$$\n",
    "\n",
    "where $N$ is the number of elements, and $s$ is the value of the exponent characterizing the distribution.  Normally, $s$ is defined to be $1$.\n",
    "\n",
    "To see illustration of Wordcount example visit: http://www.wordcount.org/main.php"
   ]
  },
  {
   "cell_type": "code",
   "execution_count": 2,
   "metadata": {},
   "outputs": [],
   "source": [
    "import os\n",
    "import numpy as np\n",
    "import matplotlib.pyplot as plt"
   ]
  },
  {
   "cell_type": "code",
   "execution_count": 2,
   "metadata": {},
   "outputs": [],
   "source": [
    "f = lambda rank,elements,s: 1/(np.sum(1./(np.arange(1,elements+1)**s)) * rank**s)"
   ]
  },
  {
   "cell_type": "code",
   "execution_count": 3,
   "metadata": {},
   "outputs": [
    {
     "data": {
      "image/png": "[encoded data removed]",
      "text/plain": [
       "<matplotlib.figure.Figure at 0x1063f4cf8>"
      ]
     },
     "metadata": {},
     "output_type": "display_data"
    }
   ],
   "source": [
    "ranks = np.arange(1,51)\n",
    "N = 5000\n",
    "s = 1.0\n",
    "\n",
    "plt.figure(figsize=(12,6))\n",
    "plt.plot(ranks,f(ranks,N,s), 'o-')\n",
    "plt.title(\"Zipfian Distribution PMF\")\n",
    "plt.xlabel(\"k: rank\")\n",
    "plt.ylabel(\"p: probability\")\n",
    "plt.show()"
   ]
  },
  {
   "cell_type": "markdown",
   "metadata": {},
   "source": [
    "### Word Count from Project Gutenberg Free ebook Texts"
   ]
  },
  {
   "cell_type": "markdown",
   "metadata": {
    "collapsed": true
   },
   "source": [
    "This exercise will attempt to replicate the results from wordcount.org by processing a large volume of sample texts.  We'll use Spark to read the text data, process the texts, and examine the total number of unique words.  \n",
    "\n",
    "We will sample 16 texts from [Project Gutenberg](https://www.gutenberg.org/ \"Title\").\n",
    "Sample text files are in following location in repo:\n",
    "\n",
    "`../data/books/`"
   ]
  },
  {
   "cell_type": "markdown",
   "metadata": {},
   "source": [
    "# Q1. list the files in `../data/books/`"
   ]
  },
  {
   "cell_type": "code",
   "execution_count": null,
   "metadata": {},
   "outputs": [],
   "source": [
    "books_path = os.path.join('..', 'data', 'books')"
   ]
  },
  {
   "cell_type": "code",
   "execution_count": null,
   "metadata": {},
   "outputs": [],
   "source": []
  },
  {
   "cell_type": "markdown",
   "metadata": {},
   "source": [
    "# Q2. Load Text Files in Spark from above list"
   ]
  },
  {
   "cell_type": "markdown",
   "metadata": {},
   "source": [
    "Load up the text files and create a text file RDD with name `textsRDD`.  Spark provides `textFile` method to read a text file and return it as a RDD."
   ]
  },
  {
   "cell_type": "code",
   "execution_count": null,
   "metadata": {},
   "outputs": [],
   "source": [
    "textsRDD = "
   ]
  },
  {
   "cell_type": "code",
   "execution_count": null,
   "metadata": {},
   "outputs": [],
   "source": [
    "# print first 10 lines from textsRDD"
   ]
  },
  {
   "cell_type": "code",
   "execution_count": 7,
   "metadata": {},
   "outputs": [],
   "source": [
    "# function to clean up the words\n",
    "import re\n",
    "\n",
    "def parsewords(sentence):\n",
    "    # Convert all non-alphanumeric characters into empty string\n",
    "    sentence_clean = re.sub(r'([^A-Za-z0-9\\s+])', '', sentence)  \n",
    "    words = sentence_clean.split(' ')\n",
    "    # Convert to lowercase and eliminate empty string words\n",
    "    return [word.lower() for word in words if word != ''] "
   ]
  },
  {
   "cell_type": "markdown",
   "metadata": {},
   "source": [
    "We have a a RDD - `textsRDD` that is a collection of strings. \n",
    "\n",
    "# Q3. Use mapping the function defined above - `parsewords` to each of the line of strings in `textsRDD` and show first 5 values.\n",
    "\n",
    "hint: `map`"
   ]
  },
  {
   "cell_type": "code",
   "execution_count": 7,
   "metadata": {},
   "outputs": [],
   "source": [
    " # output looks like something which we dont want!"
   ]
  },
  {
   "cell_type": "markdown",
   "metadata": {},
   "source": [
    "the result of mapping `parsewords` to `textsRDD` will yield lists of list which is not the result that we want. \n",
    "\n",
    "# Q4. Use another function which will give only one list having all words.\n",
    "\n",
    "here also you have to apply `parsewords` function to create a new RDD of words. print first 5 values of the same.\n",
    "\n",
    "Name this variable: `wordRDD`\n",
    "\n",
    "output should look something like this:\n",
    "```\n",
    "['the',\n",
    " 'project',\n",
    " 'gutenberg',\n",
    " 'ebook',\n",
    " 'of',\n",
    " 'adventures',\n",
    " 'of',\n",
    " 'huckleberry',\n",
    " 'finn',\n",
    " 'complete',\n",
    " 'by',]\n",
    " ```"
   ]
  },
  {
   "cell_type": "code",
   "execution_count": null,
   "metadata": {},
   "outputs": [],
   "source": [
    "wordRDD = "
   ]
  },
  {
   "cell_type": "markdown",
   "metadata": {},
   "source": [
    "if you have got an RDD of words, Congrats!\n",
    "\n",
    "let's examine following:\n",
    "\n",
    "# Q5. How many words are in our sample texts?"
   ]
  },
  {
   "cell_type": "code",
   "execution_count": 9,
   "metadata": {},
   "outputs": [],
   "source": [
    "# Total Number of Words in our Sample\n"
   ]
  },
  {
   "cell_type": "markdown",
   "metadata": {},
   "source": [
    "# Q6. Convert individual word into a pair of (word,1) tuple .\n",
    "\n",
    "Convert RDD to each occurance of word into a (key,value) pair and create a new RDD called `wordPairRDD`. You should be familiar with this pattern. Refer **word count** example.\n",
    "\n",
    "expected output:\n",
    "\n",
    "```\n",
    "[('the', 1),\n",
    " ('project', 1),\n",
    " ('gutenberg', 1),\n",
    " ('ebook', 1),\n",
    " ('of', 1),\n",
    " ('adventures', 1),\n",
    " ('of', 1),....]\n",
    "```"
   ]
  },
  {
   "cell_type": "code",
   "execution_count": null,
   "metadata": {
    "scrolled": true
   },
   "outputs": [],
   "source": [
    "# Convert individual word into a pair of (word,1) tuple \n",
    "wordPairRDD = "
   ]
  },
  {
   "cell_type": "markdown",
   "metadata": {},
   "source": [
    "# Q7. Sum up the counts and create a new RDD, `wordCountRDD`."
   ]
  },
  {
   "cell_type": "code",
   "execution_count": null,
   "metadata": {},
   "outputs": [],
   "source": [
    "wordCountRDD = "
   ]
  },
  {
   "cell_type": "markdown",
   "metadata": {},
   "source": [
    "# Q8. Print unique count of `wordCountRDD`."
   ]
  },
  {
   "cell_type": "code",
   "execution_count": 5,
   "metadata": {},
   "outputs": [],
   "source": [
    "# Number of Unique Words"
   ]
  },
  {
   "cell_type": "markdown",
   "metadata": {},
   "source": [
    "Since `wordCountRDD` contains unique words and their counts, we sort them by `takeOrdered` method of RDD specifying the the ordering function to order by the values in (key,value) pairs.  We will only select top 50 words."
   ]
  },
  {
   "cell_type": "markdown",
   "metadata": {},
   "source": [
    "# Q9. Select Top 50 words in descending order of frequency \n",
    "\n",
    "# from `wordCountRDD`"
   ]
  },
  {
   "cell_type": "code",
   "execution_count": null,
   "metadata": {},
   "outputs": [],
   "source": [
    "# Select Top 50 words in descending order of frequency\n",
    "top50Words = "
   ]
  },
  {
   "cell_type": "markdown",
   "metadata": {},
   "source": [
    "# if you have completed till this stage. You've been good so far!\n",
    "\n",
    "see below diagram to see what operations you have done so far."
   ]
  },
  {
   "cell_type": "markdown",
   "metadata": {},
   "source": [
    "### Chaining\n",
    "\n",
    "<img src=\"../img/word_count_RDD_transformation.jpeg\" width=\"600px\">\n",
    "\n",
    "Although we have performed each transformation in separate steps, Spark enables us to perform these four steps in one line of code by chaining them together."
   ]
  },
  {
   "cell_type": "markdown",
   "metadata": {},
   "source": [
    "# Q10. Use above operations from Q2-Q9 in a single line of code. Use Chaining.\n",
    "\n",
    "> To get good identation use round brackets."
   ]
  },
  {
   "cell_type": "code",
   "execution_count": 15,
   "metadata": {},
   "outputs": [],
   "source": [
    "top50Words = (textsRDD.\n",
    "                      .\n",
    "                      .\n",
    "                      .)"
   ]
  },
  {
   "cell_type": "markdown",
   "metadata": {},
   "source": [
    "# Q11. Plot bar plot of frequencies of `top50Words`.\n",
    "\n",
    "and see whether it follows **Zipf distribution** or not?"
   ]
  },
  {
   "cell_type": "code",
   "execution_count": null,
   "metadata": {},
   "outputs": [],
   "source": []
  }
 ],
 "metadata": {
  "kernelspec": {
   "display_name": "Python 3",
   "language": "python",
   "name": "python3"
  },
  "language_info": {
   "codemirror_mode": {
    "name": "ipython",
    "version": 3
   },
   "file_extension": ".py",
   "mimetype": "text/x-python",
   "name": "python",
   "nbconvert_exporter": "python",
   "pygments_lexer": "ipython3",
   "version": "3.4.5"
  }
 },
 "nbformat": 4,
 "nbformat_minor": 2
}
